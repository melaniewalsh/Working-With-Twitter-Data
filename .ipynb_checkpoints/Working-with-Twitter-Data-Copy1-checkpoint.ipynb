{
 "cells": [
  {
   "cell_type": "markdown",
   "metadata": {},
   "source": [
    "# **Working with Twitter Data**"
   ]
  },
  {
   "cell_type": "markdown",
   "metadata": {},
   "source": [
    "## Cornell Day of Data 2019"
   ]
  },
  {
   "cell_type": "markdown",
   "metadata": {},
   "source": [
    " "
   ]
  },
  {
   "cell_type": "markdown",
   "metadata": {},
   "source": [
    "This workshop will introduce you to the Python and command line tool, twarc."
   ]
  },
  {
   "cell_type": "markdown",
   "metadata": {},
   "source": [
    "# Installation\n",
    "\n",
    "## Python\n",
    "\n",
    "I recommend installing Python with Anacdona: https://docs.continuum.io/anaconda/install/\n",
    "\n",
    "## Twarc"
   ]
  },
  {
   "cell_type": "markdown",
   "metadata": {},
   "source": [
    "`pip install twarc`"
   ]
  },
  {
   "cell_type": "markdown",
   "metadata": {},
   "source": [
    "## Configuration"
   ]
  },
  {
   "cell_type": "markdown",
   "metadata": {},
   "source": [
    "`twarc configure`"
   ]
  },
  {
   "cell_type": "markdown",
   "metadata": {},
   "source": [
    "`Please enter your Twitter application credentials from apps.twitter.com:`<br>\n",
    "`consumer key:` **INSERT YOUR CONSUMER KEY HERE** <br>\n",
    "`consumer secret:` **INSERT YOUR CONSUMER SECRET HERE**"
   ]
  },
  {
   "cell_type": "markdown",
   "metadata": {},
   "source": [
    "`Please log into Twitter and visit this URL in your browser:`<br>`https://api.twitter.com/oauth/authorize?oauth_token=YOUR UNIQUE AUTHORIZATION TOKEN`"
   ]
  },
  {
   "cell_type": "markdown",
   "metadata": {},
   "source": [
    "`After you have authorized the application please enter the displayed PIN:` **INSERT YOUR UNIQUE PIN**"
   ]
  },
  {
   "cell_type": "markdown",
   "metadata": {},
   "source": [
    "NOTE: You can find your unique PIN in the URL that you are taken to after authorizing the application.\n",
    "\n",
    "For example: https:// YOUR-URL /?oauth_token=YOUR-OAUTH-TOKEN&oauth_verifier=**YOUR-UNIQUE-PIN-HERE**"
   ]
  },
  {
   "cell_type": "markdown",
   "metadata": {},
   "source": [
    "```The credentials for YOUR-USER-NAME have been saved to your configuration file at /Users/YOUR-HOME-FOLDER/.twarc```<br>\n",
    "```✨ ✨ ✨  Happy twarcing! ✨ ✨ ✨```"
   ]
  },
  {
   "cell_type": "code",
   "execution_count": null,
   "metadata": {},
   "outputs": [],
   "source": [
    "!pip3 install twint"
   ]
  },
  {
   "cell_type": "code",
   "execution_count": null,
   "metadata": {},
   "outputs": [],
   "source": [
    "!twint -s  pineapple --output pineapple.json --json"
   ]
  },
  {
   "cell_type": "code",
   "execution_count": null,
   "metadata": {},
   "outputs": [],
   "source": [
    "!twint -s  pineapple --output pineapple.csv --csv"
   ]
  },
  {
   "cell_type": "code",
   "execution_count": null,
   "metadata": {},
   "outputs": [],
   "source": [
    "!twint -s pineapple --output file.csv --csv --hide-output"
   ]
  },
  {
   "cell_type": "code",
   "execution_count": 3,
   "metadata": {},
   "outputs": [
    {
     "name": "stdout",
     "output_type": "stream",
     "text": [
      "Traceback (most recent call last):\n",
      "  File \"twarc/utils/wordcloud.py\", line 114, in <module>\n",
      "    main()\n",
      "  File \"twarc/utils/wordcloud.py\", line 25, in main\n",
      "    for word in text(tweet).split(' '):\n",
      "UnboundLocalError: local variable 'tweet' referenced before assignment\n"
     ]
    }
   ],
   "source": [
    "!python twarc/utils/wordcloud.py pineapple.csv "
   ]
  },
  {
   "cell_type": "markdown",
   "metadata": {},
   "source": [
    "## Collect tweets from a specific user and output to a JSON file"
   ]
  },
  {
   "cell_type": "markdown",
   "metadata": {},
   "source": [
    "The `--username` or `-u` flag indicates scraping a specific user's tweets\n",
    "\n",
    "The `--output` or `-o` flag indicates saving the tweets to a file\n",
    "\n",
    "The `--json` flag indicates write the file in JSON format"
   ]
  },
  {
   "cell_type": "code",
   "execution_count": null,
   "metadata": {
    "scrolled": true
   },
   "outputs": [],
   "source": [
    "!twint --username washingtonpost --output washington-post-tweets.json --json"
   ]
  },
  {
   "cell_type": "code",
   "execution_count": null,
   "metadata": {},
   "outputs": [],
   "source": [
    "!twint -u foxnews --output fox-news-tweets.json --json -ho"
   ]
  },
  {
   "cell_type": "code",
   "execution_count": null,
   "metadata": {},
   "outputs": [],
   "source": [
    "!twarc timeline washingtonpost > wa-po-recent.json"
   ]
  },
  {
   "cell_type": "code",
   "execution_count": null,
   "metadata": {},
   "outputs": [],
   "source": [
    "!twarc search demdebate > dem-debate-2019-10.json"
   ]
  },
  {
   "cell_type": "code",
   "execution_count": 1,
   "metadata": {},
   "outputs": [
    {
     "name": "stdout",
     "output_type": "stream",
     "text": [
      "     140 pineapple.json\n"
     ]
    }
   ],
   "source": [
    "!wc -l pineapple.json"
   ]
  },
  {
   "cell_type": "code",
   "execution_count": null,
   "metadata": {},
   "outputs": [],
   "source": []
  },
  {
   "cell_type": "code",
   "execution_count": null,
   "metadata": {},
   "outputs": [],
   "source": []
  }
 ],
 "metadata": {
  "kernelspec": {
   "display_name": "Python 3",
   "language": "python",
   "name": "python3"
  },
  "language_info": {
   "codemirror_mode": {
    "name": "ipython",
    "version": 3
   },
   "file_extension": ".py",
   "mimetype": "text/x-python",
   "name": "python",
   "nbconvert_exporter": "python",
   "pygments_lexer": "ipython3",
   "version": "3.7.3"
  }
 },
 "nbformat": 4,
 "nbformat_minor": 4
}
