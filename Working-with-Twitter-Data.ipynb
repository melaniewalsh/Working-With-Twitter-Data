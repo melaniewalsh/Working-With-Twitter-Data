{
 "cells": [
  {
   "cell_type": "markdown",
   "metadata": {},
   "source": [
    "# **Working with Twitter Data**"
   ]
  },
  {
   "cell_type": "markdown",
   "metadata": {},
   "source": [
    "## Cornell Day of Data 2019"
   ]
  },
  {
   "cell_type": "markdown",
   "metadata": {},
   "source": [
    " "
   ]
  },
  {
   "cell_type": "markdown",
   "metadata": {},
   "source": [
    "## Introduction\n",
    "\n",
    "This workshop will introduce you to the Python and command line tool, twarc."
   ]
  },
  {
   "cell_type": "markdown",
   "metadata": {},
   "source": [
    "# Installation\n",
    "\n",
    "## Python\n",
    "\n",
    "## Twarc"
   ]
  },
  {
   "cell_type": "markdown",
   "metadata": {},
   "source": [
    "`pip install twarc`"
   ]
  },
  {
   "cell_type": "markdown",
   "metadata": {},
   "source": [
    "# Configuration"
   ]
  },
  {
   "cell_type": "markdown",
   "metadata": {},
   "source": [
    "`twarc configure`"
   ]
  },
  {
   "cell_type": "markdown",
   "metadata": {},
   "source": [
    "`Please enter your Twitter application credentials from apps.twitter.com:`<br>\n",
    "`consumer key:` **INSERT YOUR CONSUMER KEY HERE** <br>\n",
    "`consumer secret:` **INSERT YOUR CONSUMER SECRET HERE**"
   ]
  },
  {
   "cell_type": "markdown",
   "metadata": {},
   "source": [
    "`Please log into Twitter and visit this URL in your browser:`<br>`https://api.twitter.com/oauth/authorize?oauth_token=YOUR UNIQUE AUTHORIZATION TOKEN`"
   ]
  },
  {
   "cell_type": "markdown",
   "metadata": {},
   "source": [
    "`After you have authorized the application please enter the displayed PIN:` **INSERT YOUR UNIQUE PIN**"
   ]
  },
  {
   "cell_type": "markdown",
   "metadata": {},
   "source": [
    "NOTE: You can find your unique PIN in the URL that you are taken to after authorizing the application.\n",
    "\n",
    "For example: https:// YOUR-URL /?oauth_token=YOUR-OAUTH-TOKEN&oauth_verifier=**YOUR-UNIQUE-PIN-HERE**"
   ]
  },
  {
   "cell_type": "markdown",
   "metadata": {},
   "source": [
    "```The credentials for YOUR-USER-NAME have been saved to your configuration file at /Users/YOUR-HOME-FOLDER/.twarc```<br>\n",
    "```✨ ✨ ✨  Happy twarcing! ✨ ✨ ✨```"
   ]
  },
  {
   "cell_type": "code",
   "execution_count": null,
   "metadata": {},
   "outputs": [],
   "source": [
    "!pip3 install twint"
   ]
  },
  {
   "cell_type": "code",
   "execution_count": 33,
   "metadata": {},
   "outputs": [
    {
     "name": "stdout",
     "output_type": "stream",
     "text": [
      "1183814350177484801 2019-10-14 14:38:29 EDT <JoePineapples75> 👍 pic.twitter.com/YKuCeJbH0e\n",
      "1183814277645426692 2019-10-14 14:38:12 EDT <MaxEmiya> Pineapple, do you really think this will happen in 4 months? Deku would have to train in an Hyperbolic Time Chamber or some shit. For starters Gigantomachia would kill him at this point.\n",
      "1183814251003011073 2019-10-14 14:38:06 EDT <om25857535> janab sunaa hai. macca mei jo kala pathar(tatta) hai .. usse aap log chumi dete ho..  usko kisi invader ne chura liya tha kya..   👆👆 aur suna hai uspe wo roz motta tha\n",
      "1183814243528970240 2019-10-14 14:38:04 EDT <BeautyBubble> As a proud member of the Pineapple Juice Gang, circa 2018 @VidSummit ... I am looking for #TheYard aka @streamyardapp attendees of #VidSummit2019 !  Reach out guys!  I would love to hear from you! ~Beauty\n",
      "1183814207298588673 2019-10-14 14:37:55 EDT <MaryBow50887102> I will have to make Pineapple Upside Down Cake...😍\n",
      "1183814183516807170 2019-10-14 14:37:50 EDT <forshish> Surely bacon and pineapple will get a query\n",
      "1183814182854103040 2019-10-14 14:37:50 EDT <pineapple_MEOW_> Никто: Мужчины за сорок ВКонтакте: pic.twitter.com/GTYTnNvdBL\n",
      "1183814156375515139 2019-10-14 14:37:43 EDT <indianzfan> Must be a Libra thing. I also love pineapple (and ham) on my pizza. My birthday was Last week.\n",
      "1183814128344948737 2019-10-14 14:37:37 EDT <JoePineapples75> One of my favourite of Carpenter's and definitely one of my favourite steelbooks.\n",
      "1183813942457466880 2019-10-14 14:36:52 EDT <CactusDuud> Jamba Review: Aloha Pinapple + Cold + Sweet + Goodbye pineapple - Pink? - They got my name wrong... - No but why is it pink? Salmon?  pic.twitter.com/DLH8qtjeFc\n",
      "1183813941173968896 2019-10-14 14:36:52 EDT <authetnic> Pro pineapple 🍍it brings out the explosions of flavors! You get sweet along with the savory of the pizza. Ties in great gives contemporary appeal plus creative flair. Marriage meant to be like soulmates! Delicious, scrumptious, tantalizing, oh goodness! Blessings the palate!!\n",
      "1183813884454588418 2019-10-14 14:36:38 EDT <khalen060> Trynna walk around in public like these white people all happy and shit with they families looking picture ready at all times\n",
      "1183813809582104576 2019-10-14 14:36:21 EDT <KateRoseBee> Greece was incredible and I ate my weight in yogurt-based dishes and condiments and meats that cook on spits, but I’m also very much looking forward to ordering bacon pineapple pizza tonight.\n",
      "1183813795585626115 2019-10-14 14:36:17 EDT <Pineapple_Zero> Lol man leave them alone they misunderstood 🤣\n",
      "1183813782851727360 2019-10-14 14:36:14 EDT <pineapple_roll> Я: *переписываюсь с человеком*  Мама: *крадется* о, я смотрю ты делаешь уроки.)))  Я, судорожно заходя в галерею с супер спокойным лицом: ах, я всего лишь ищу расписание на завтра. И да, мне к первому.  Так же я: *мысленно издаю панический ультразвук*\n",
      "1183813775499124736 2019-10-14 14:36:12 EDT <USA_myy> This is brain not a Fuckin' Pineapple  https://twitter.com/cerralaburra/status/1180317696774299648 …\n",
      "1183813772470902785 2019-10-14 14:36:12 EDT <NakoEsq> Wednesday is the day ❤️👌🏽 Pineapple & PawPaw shall be the snack 🍍  https://twitter.com/botshabelokt/status/1183793570903416833 …\n",
      "1183813765566828545 2019-10-14 14:36:10 EDT <Saybin_Iacere> Well that's the ginger mead you see there. Annnnd we only have two bottles left >.>  Buuut I have \"Skyrim\" mead on the way:  Blueberry and Orange with Juniper Berries  Also have Mango Pineapple, Cherry Hibiscus and a plain Alfalfa Clover Sweet Mead on the way\n",
      "1183813758629470211 2019-10-14 14:36:08 EDT <om25857535> mandir mei chut ki nahi. 👈👈 tatte ki pooja hoti hai 😂😂😂  jaise.. waha. pe tatte (kala pathar) chup ke aate ho\n",
      "1183813729814794240 2019-10-14 14:36:02 EDT <ElainaMarie89> Was amazing.\n",
      "1183813719916199937 2019-10-14 14:35:59 EDT <jahnuaryy> I know I did not take my little lunch break to come on twitter and see a woman put a whole pineapple in her vagina...\n",
      "1183813633568059392 2019-10-14 14:35:39 EDT <laura_mmallol> La cuestión no es el porqué de nuestra existencia, la cuestión es porque c*** nos hemos metido en el bachillerato científico\n",
      "1183813615666761728 2019-10-14 14:35:34 EDT <letyourminddie> ой там всё еще хуже (((\n",
      "1183813585153036288 2019-10-14 14:35:27 EDT <Pineapple___bot> 昭和はこれなんだよ。平成はこれなの。今の時代これ。\n",
      "1183813559115042816 2019-10-14 14:35:21 EDT <agentquarter007> У Нурлана Сабурова такая жена красивая😍\n",
      "1183813545730985984 2019-10-14 14:35:18 EDT <_iPott_> you *do* have it worse.😭😭🤣🤣🤣 pineapples ? i’d die.\n",
      "1183813463212097536 2019-10-14 14:34:58 EDT <om25857535> bikul .. india. tumhara hi tha.. 👆👆👆  pr tum.. imaan wale ho gaye.. aur.. 😂😂😂😂😂😂 jao janab apke. Qur'anic dost apse kuch rabta krna chahte hai... nahi karege kya. @ExMuhammaden\n",
      "1183813406165475328 2019-10-14 14:34:44 EDT <seanwebb87> When I see people putting pineapple on a pizza...  https://twitter.com/shameonyou1990/status/1183813012014149632 …\n",
      "1183813389245669376 2019-10-14 14:34:40 EDT <nusaybahox> Lool, okayy 😊\n",
      "1183813353828966400 2019-10-14 14:34:32 EDT <veganboyjosh> pineapple plants!\n",
      "1183813340205703171 2019-10-14 14:34:29 EDT <kelidekardash> I thought these were pineapple Japanese pancakes lmaooooo  https://twitter.com/lisbetthhc/status/1183457525636595713 …\n",
      "1183813316575203334 2019-10-14 14:34:23 EDT <CenterStage97> He’s a pineapple fruit!  https://twitter.com/thepineapplefox/status/1153306696829345792 …\n",
      "1183813295817527307 2019-10-14 14:34:18 EDT <Sharkbate_44125> @shkouks\n",
      "1183813290780180480 2019-10-14 14:34:17 EDT <Errandboy5> I'm off to get pineapple juice so i can be hungover for work tomorrow morning. Booyah.\n",
      "1183813290205405184 2019-10-14 14:34:17 EDT <shelley_ylst> #findyourthing #redbubble  http://www.redbubble.com/people/shelleyylstart/works/39758717-tropical-pineapple-sunrise?p=shower-curtain&asc=u … #pineapple #tropical #decor\n",
      "1183813267279564800 2019-10-14 14:34:11 EDT <darink> Im offended.  Pineapple on pizza is delicious.  https://twitter.com/ESPN_Esports/status/1183807351637319680 …\n",
      "1183813189231878144 2019-10-14 14:33:53 EDT <piineappplee> This so cute me hart 🥺🥺🥺🥺🥺 https://twitter.com/squishiyonks/status/1183423737057742850 …\n",
      "1183813186170118144 2019-10-14 14:33:52 EDT <ElfiElfe> Eben hat eine Mandantin die Septemberbuchhaltung gebracht. Tja nun.\n",
      "1183813183401795584 2019-10-14 14:33:51 EDT <CM_Dining> Dinner 10/14 Chefs~ Gemelli pasta w tomato basil sauce & shredded parmesan pork Veg~ Vegetables, pineapple, golden raisin curry w tofu Catch~ Golden panko fried flounder w pickled ginger & cucumber wasabi aioli Southern~ Game rabbit stew w savory sweet stuffed cornbread\n",
      "1183813170609184768 2019-10-14 14:33:48 EDT <pineapple_lady7> راحة البال يارب 💔\n",
      "1183813099998056449 2019-10-14 14:33:31 EDT <CallMeChris20xx> Looks like you had so much fun Jezza 😍\n",
      "1183813059745374208 2019-10-14 14:33:22 EDT <pineapple_lady7> الله يديمها عليكم والف مبروووك وكتير بتشبهو بعض 😍\n",
      "1183813044540825601 2019-10-14 14:33:18 EDT <BotPineapple_>  pic.twitter.com/z7Fc6Sv9IN\n",
      "1183813015986147333 2019-10-14 14:33:11 EDT <pineapple_wife> потому что из-за этого получается, что она не права? :(\n",
      "1183812932208971776 2019-10-14 14:32:51 EDT <om25857535> as we cant find camel piss.. 👈👈👈 to mutra to mutra.. ooth ka ho ya .. cow ka\n",
      "1183812930216828928 2019-10-14 14:32:51 EDT <Willy_B2141> The Bruins goalie combination is actually absurd\n",
      "1183812921614393345 2019-10-14 14:32:49 EDT <iq_to_hi> my pet snake is vegan, i feed it chunks of pineapple and chocolate\n",
      "1183812892929511433 2019-10-14 14:32:42 EDT <OldFangledGamer> Agree 100%. But pineapple on pizza?  Fuck that shit!  Wipe it from existence.\n",
      "1183812806723997697 2019-10-14 14:32:21 EDT <Alexxander_M> Pineapples & Pears should not be questioned as elite fruits\n",
      "1183812762574770176 2019-10-14 14:32:11 EDT <letyourminddie> я всегда пытаюсь сохранять логику и нормальный тон когда мама орет на меня, а её это бесит хуже красной тряпки\n",
      "1183812753762467841 2019-10-14 14:32:09 EDT <soxx23> And here I thought I had it worse with pineapples 💀  https://twitter.com/_iPott_/status/1183711421147860992 …\n",
      "1183812726247821313 2019-10-14 14:32:02 EDT <BiggPlayClay> Word, just saw a bitch fucking herself with a pineapple... the whole bitch. Wow.\n",
      "1183812720719749120 2019-10-14 14:32:01 EDT <leigh_lmd> Looks like a pineapple chunk...  pic.twitter.com/lYyEHn2c2m\n",
      "1183812690160041984 2019-10-14 14:31:54 EDT <MyPineapple> If you had 2:30pm in the poll for when Katie & Matt would finally hit the road, please DM me to collect your prize 😩\n",
      "1183812689270919168 2019-10-14 14:31:53 EDT <nobodyelsebutME> Noooooo.... I mean I love pineapple in pizza...but JUST pineapple... not even ham?? Or pepperoni???...\n",
      "1183812642801995776 2019-10-14 14:31:42 EDT <om25857535> pr homne to suna. hai. dubai mei. labour pakistani jyada hai.. 😕😕😕😕😕  aur dubai to. muslim country nahi hai. pakistani muslim aisa kehte hai...  dubai ka*fir ho gaya hai.\n",
      "1183812605762326529 2019-10-14 14:31:34 EDT <2020Panel> Possibly the most heated argument that comes up around the office...does pineapple belong on pizza or not? What do you think? Let's take a poll and see which side wins! Best argument for their side wins a $25 gift card! #pizza #pineapple\n",
      "1183812593351217152 2019-10-14 14:31:31 EDT <Espinosuuh> does pineapple belong on pizza?  trynna prove a point\n",
      "1183812590843158528 2019-10-14 14:31:30 EDT <Sharkbate_44125> @shkouks\n",
      "1183812571746295809 2019-10-14 14:31:25 EDT <hayari_bot> I... smell... pineapple! Ό▽O! Kasui-san, what are you making!? Ό▽ O三Ό ▽O\n",
      "1183812567887732738 2019-10-14 14:31:25 EDT <cocoababyjay> Pineapples*  https://twitter.com/kkatiee1/status/1183558287674920961 …\n",
      "1183812544563240961 2019-10-14 14:31:19 EDT <sdirvx> Но я не знаю точно, когда, так что отправляй все на тот, который я писала, все равно тут родители и брат остаются, они скажут, что что-то пришло мне)\n",
      "1183812519783256066 2019-10-14 14:31:13 EDT <KgoshigadiNR> I need to hire someone to peel my pineapples for me.\n",
      "1183812505073782790 2019-10-14 14:31:10 EDT <LionPineapples> Let’s go bro meet me there. https://twitter.com/ebrzy/status/1183807832170356736 …\n",
      "1183812504968978434 2019-10-14 14:31:10 EDT <pineapple_wife> господи, здравствуй, средневековье\n",
      "1183812500707520512 2019-10-14 14:31:08 EDT <ChimzoE> Pineapples rock! Undercooked egg, not so much 🥴\n",
      "1183812431266627586 2019-10-14 14:30:52 EDT <Willy_B2141> Looooool https://twitter.com/Sportsnet/status/1183811465607819264 …\n",
      "1183812400115527680 2019-10-14 14:30:45 EDT <_kiashia_> Kids bad asl\n",
      "1183812376526610435 2019-10-14 14:30:39 EDT <cherrybombbabe> ITS SO GOOD!! I made it w the glaze and pineapple on top w mashed potatoes. 🤤 I AM A SLUT FOR MASHED POTATOES\n",
      "1183812370034024449 2019-10-14 14:30:37 EDT <_Rahim1200> pineapple juice>>>>  https://twitter.com/sxbahkhxn/status/1183745763014258693 …\n",
      "1183812367039287297 2019-10-14 14:30:37 EDT <_kiashia_> Lmfaoo\n",
      "1183812329378435072 2019-10-14 14:30:28 EDT <krys1810> Quien me quita estas inmensas ganas de darte un abrazo 😭\n",
      "1183812318062415873 2019-10-14 14:30:25 EDT <Willy_B2141> The Boston fookin Bruins\n",
      "1183812308738494469 2019-10-14 14:30:23 EDT <AlouOraelosi> No one will EVER have your DNA set on Earth again. You're the only YOU! Be at your best always. #UberYou #YOUtopia\n",
      "1183812307916181504 2019-10-14 14:30:23 EDT <HighFiveVal> Y are we like this https://twitter.com/cherrikillz/status/1183811796710281217 …\n",
      "1183812301989797888 2019-10-14 14:30:21 EDT <PineappleCGC> I'd rather nobody eat it than somebody other them me eat it without my consent.\n",
      "1183812287934746627 2019-10-14 14:30:18 EDT <InfiniteFowler> that stressed I can’t even eat my bloody pineapple ladies\n",
      "1183812281534013443 2019-10-14 14:30:16 EDT <om25857535> janab pathan sahab.. ek imaan wala.. apne imaan se bhatak gaya  hai.  aap unKo pehle.. imaan ke raste pe le aaye  @ExMuhammaden👈👈 yeh rahe wo..   jinka imaan kho gaya hai..  dekhte hai. inka imaan wapas la pate hai ya nahu aap.. pata chal jaye ga. imaan wale hai ya nahi\n",
      "1183812266212200448 2019-10-14 14:30:13 EDT <NBN_Pineapple> I wish I could find a 49er fan chapter in my area.\n",
      "1183812243357483008 2019-10-14 14:30:07 EDT <Im_pineapple_> 마음속의 소음들이 가라앉습니다... 천천히...숨을 들이쉬고...아니 시발 진짜 왜 지랄인데... 들어쉬고.... 좆같은게 진짜 죽여버리고싶다.... 들이쉬고.... 진짜 아 개빡쳐 아...... 들이쉬고....존나 들이쉬고....\n",
      "^C\n",
      "Traceback (most recent call last):\n",
      "  File \"/usr/local/bin/twint\", line 10, in <module>\n",
      "    sys.exit(run_as_command())\n",
      "  File \"/usr/local/lib/python3.7/site-packages/twint/cli.py\", line 295, in run_as_command\n",
      "    main()\n",
      "  File \"/usr/local/lib/python3.7/site-packages/twint/cli.py\", line 287, in main\n",
      "    run.Search(c)\n",
      "  File \"/usr/local/lib/python3.7/site-packages/twint/run.py\", line 292, in Search\n",
      "    run(config, callback)\n",
      "  File \"/usr/local/lib/python3.7/site-packages/twint/run.py\", line 213, in run\n",
      "    get_event_loop().run_until_complete(Twint(config).main(callback))\n",
      "  File \"/usr/local/Cellar/python/3.7.3/Frameworks/Python.framework/Versions/3.7/lib/python3.7/asyncio/base_events.py\", line 571, in run_until_complete\n",
      "    self.run_forever()\n",
      "  File \"/usr/local/Cellar/python/3.7.3/Frameworks/Python.framework/Versions/3.7/lib/python3.7/asyncio/base_events.py\", line 539, in run_forever\n",
      "    self._run_once()\n",
      "  File \"/usr/local/Cellar/python/3.7.3/Frameworks/Python.framework/Versions/3.7/lib/python3.7/asyncio/base_events.py\", line 1739, in _run_once\n",
      "    event_list = self._selector.select(timeout)\n",
      "  File \"/usr/local/Cellar/python/3.7.3/Frameworks/Python.framework/Versions/3.7/lib/python3.7/selectors.py\", line 558, in select\n",
      "    kev_list = self._selector.control(None, max_ev, timeout)\n",
      "KeyboardInterrupt\n"
     ]
    }
   ],
   "source": [
    "!twint -s  pineapple --output pineapple.csv --csv"
   ]
  },
  {
   "cell_type": "code",
   "execution_count": 32,
   "metadata": {},
   "outputs": [
    {
     "name": "stdout",
     "output_type": "stream",
     "text": [
      "^C\n",
      "Traceback (most recent call last):\n",
      "  File \"/usr/local/bin/twint\", line 10, in <module>\n",
      "    sys.exit(run_as_command())\n",
      "  File \"/usr/local/lib/python3.7/site-packages/twint/cli.py\", line 295, in run_as_command\n",
      "    main()\n",
      "  File \"/usr/local/lib/python3.7/site-packages/twint/cli.py\", line 287, in main\n",
      "    run.Search(c)\n",
      "  File \"/usr/local/lib/python3.7/site-packages/twint/run.py\", line 292, in Search\n",
      "    run(config, callback)\n",
      "  File \"/usr/local/lib/python3.7/site-packages/twint/run.py\", line 213, in run\n",
      "    get_event_loop().run_until_complete(Twint(config).main(callback))\n",
      "  File \"/usr/local/Cellar/python/3.7.3/Frameworks/Python.framework/Versions/3.7/lib/python3.7/asyncio/base_events.py\", line 571, in run_until_complete\n",
      "    self.run_forever()\n",
      "  File \"/usr/local/Cellar/python/3.7.3/Frameworks/Python.framework/Versions/3.7/lib/python3.7/asyncio/base_events.py\", line 539, in run_forever\n",
      "    self._run_once()\n",
      "  File \"/usr/local/Cellar/python/3.7.3/Frameworks/Python.framework/Versions/3.7/lib/python3.7/asyncio/base_events.py\", line 1739, in _run_once\n",
      "    event_list = self._selector.select(timeout)\n",
      "  File \"/usr/local/Cellar/python/3.7.3/Frameworks/Python.framework/Versions/3.7/lib/python3.7/selectors.py\", line 558, in select\n",
      "    kev_list = self._selector.control(None, max_ev, timeout)\n",
      "KeyboardInterrupt\n"
     ]
    }
   ],
   "source": [
    "!twint -s pineapple --output file.csv --csv --hide-output"
   ]
  },
  {
   "cell_type": "code",
   "execution_count": null,
   "metadata": {},
   "outputs": [],
   "source": []
  }
 ],
 "metadata": {
  "kernelspec": {
   "display_name": "Python 3",
   "language": "python",
   "name": "python3"
  },
  "language_info": {
   "codemirror_mode": {
    "name": "ipython",
    "version": 3
   },
   "file_extension": ".py",
   "mimetype": "text/x-python",
   "name": "python",
   "nbconvert_exporter": "python",
   "pygments_lexer": "ipython3",
   "version": "3.7.3"
  }
 },
 "nbformat": 4,
 "nbformat_minor": 4
}
